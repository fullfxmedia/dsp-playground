{
 "cells": [
  {
   "cell_type": "markdown",
   "id": "50e3b03c",
   "metadata": {},
   "source": [
    "# Compression\n",
    "\n",
    "Compression reduces dynamic range by reducing an input signal once a threshold is breached.\n",
    "\n",
    "Components of compression:\n",
    "\n",
    "- Level detection – measure amplitude\n",
    "- Gain computer – apply threshold, ratio, knee\n",
    "- Smoothing (attack/release) – prevent abrupt changes\n",
    "- Apply gain – multiply input by computed gain\n"
   ]
  },
  {
   "cell_type": "code",
   "execution_count": null,
   "id": "fed8a49a",
   "metadata": {},
   "outputs": [],
   "source": [
    "import numpy as np\n",
    "import warnings\n",
    "from IPython.display import Audio, display\n",
    "from scipy.io import wavfile\n",
    "import matplotlib.pyplot as plt\n",
    "\n",
    "og_len = 5000 # 5 seconds\n",
    "channels = 2  # Stereo audio\n",
    "sr = 44100 # stream rate\n",
    "audio_path = \"../../resources/drums1.wav\"\n",
    "\n",
    "warnings.simplefilter(\"ignore\", wavfile.WavFileWarning)\n",
    "sr_loaded, y = wavfile.read(audio_path)  # y has shape (samples, channels) if stereo\n",
    "\n",
    "# Handle stereo by taking mean. Simplifies the example greatly.\n",
    "if y.ndim == 2:\n",
    "    y = y.mean(axis=1)\n",
    "\n",
    "# Normalize to -1 to 1 range\n",
    "waveform = y.T.astype(np.float32) / np.max(np.abs(y))\n",
    "display(Audio(waveform, rate=sr))"
   ]
  },
  {
   "cell_type": "code",
   "execution_count": null,
   "id": "85c3759e",
   "metadata": {},
   "outputs": [],
   "source": [
    "# Linear scale threshold\n",
    "# Values above the threshold will be compressed\n",
    " # linear scale threshold of 0.5 ~ -6dB\n",
    "threshold = 0.05\n",
    "\n",
    "# compression ratio. normal is 4:1 or less\n",
    "ratio = 4.0\n",
    "\n",
    "# Sample window for envelope follower\n",
    "# This is the window size that is used to smooth the rectified input signal\n",
    "# Smoothing prevents distortion artifacts and jittery changes in gain\n",
    "window_size = int(0.01 * sr)  # 10ms sampling window\n",
    "\n",
    "# Rectify inputs\n",
    "# We need absolute values when we calculate the gain reduction amount in decibels\n",
    "rectified = np.abs(waveform)\n",
    "\n",
    "# This convolves the rectified input signal with averaging window to get the envelope\n",
    "envelope = np.convolve(rectified, np.ones(window_size)/window_size, mode='same')\n",
    "\n",
    "# Gather signal and calculate the target gain\n",
    "# If the envelope is above the threshold, reduce the gain according to the ratio\n",
    "# If the envelope is below the threshold, just return the envelope (no gain change)\n",
    "gain = np.where(\n",
    "  envelope > threshold,\n",
    "  threshold + (envelope - threshold) / ratio,\n",
    "  envelope\n",
    ")\n",
    "\n",
    "# Calculate the gain reduction factor for each sample\n",
    "gain = gain / (envelope + 1e-8)\n",
    "\n",
    "# Apply the gain reduction to the original signal\n",
    "# After this step, the signal has been compressed\n",
    "compressed_signal = waveform * gain\n",
    "\n",
    "display(Audio(compressed_signal, rate=sr))\n",
    "\n",
    "plt.figure(figsize=(12, 6))\n",
    "plt.plot(waveform[:5000], label=\"Original waveform\")\n",
    "plt.plot(compressed_signal[:5000], label=\"Compressed waveform\", alpha=0.8)\n",
    "plt.plot(gain[:5000], label=\"Gain factor\", alpha=0.8)\n",
    "plt.legend()\n",
    "plt.show()\n",
    "\n",
    "# === Print some sample gain values ===\n",
    "print(\"Envelope values:\", envelope[:20])\n",
    "print(\"Gain factors   :\", gain[:20])"
   ]
  }
 ],
 "metadata": {
  "kernelspec": {
   "display_name": ".venv",
   "language": "python",
   "name": "python3"
  },
  "language_info": {
   "codemirror_mode": {
    "name": "ipython",
    "version": 3
   },
   "file_extension": ".py",
   "mimetype": "text/x-python",
   "name": "python",
   "nbconvert_exporter": "python",
   "pygments_lexer": "ipython3",
   "version": "3.13.7"
  }
 },
 "nbformat": 4,
 "nbformat_minor": 5
}
