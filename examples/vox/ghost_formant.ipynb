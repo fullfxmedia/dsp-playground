{
 "cells": [
  {
   "cell_type": "markdown",
   "id": "b142d18f",
   "metadata": {},
   "source": [
    "# Ghost Formant"
   ]
  },
  {
   "cell_type": "code",
   "execution_count": null,
   "id": "78559b36",
   "metadata": {},
   "outputs": [],
   "source": [
    "import numpy as np\n",
    "import warnings\n",
    "from IPython.display import Audio, display\n",
    "from scipy.io import wavfile\n",
    "import matplotlib.pyplot as plt\n",
    "import librosa, numpy as np\n",
    "import pyrubberband as pyrb\n",
    "\n",
    "og_len = 4000 # 4 seconds\n",
    "channels = 2  # Stereo audio\n",
    "sr = 44100 # stream rate\n",
    "audio_path = \"../../resources/vocals/withers1.wav\"\n",
    "\n",
    "warnings.simplefilter(\"ignore\", wavfile.WavFileWarning)\n",
    "sr_loaded, y = wavfile.read(audio_path)  # y has shape (samples, channels) if stereo\n",
    "waveform = y.T.astype(np.float32) / np.max(np.abs(y))  # normalize\n",
    "\n",
    "display(Audio(waveform, rate=sr))\n"
   ]
  },
  {
   "cell_type": "markdown",
   "id": "7989328c",
   "metadata": {},
   "source": [
    "# Formant shift L/R channels"
   ]
  },
  {
   "cell_type": "code",
   "execution_count": null,
   "id": "df0792a9",
   "metadata": {},
   "outputs": [],
   "source": [
    "# make sure lengths match\n",
    "ghost_corr = pyrb.pitch_shift(waveform.mean(axis=0), sr, n_steps=-4)\n",
    "min_len = min(len(ghost_corr), waveform.shape[1])\n",
    "ghost_corr = ghost_corr[:min_len]\n",
    "waveform = waveform[:, :min_len]\n",
    "\n",
    "# mix back to stereo\n",
    "blend_ratio = 0.35\n",
    "ghost_stereo = np.vstack([\n",
    "    (1 - blend_ratio) * waveform[0] + blend_ratio * ghost_corr,\n",
    "    (1 - blend_ratio) * waveform[1] + blend_ratio * ghost_corr\n",
    "])\n",
    "ghost_stereo /= np.max(np.abs(ghost_stereo))\n",
    "\n",
    "display(Audio(ghost_stereo, rate=sr))\n"
   ]
  }
 ],
 "metadata": {
  "kernelspec": {
   "display_name": ".venv",
   "language": "python",
   "name": "python3"
  },
  "language_info": {
   "codemirror_mode": {
    "name": "ipython",
    "version": 3
   },
   "file_extension": ".py",
   "mimetype": "text/x-python",
   "name": "python",
   "nbconvert_exporter": "python",
   "pygments_lexer": "ipython3",
   "version": "3.13.7"
  }
 },
 "nbformat": 4,
 "nbformat_minor": 5
}
