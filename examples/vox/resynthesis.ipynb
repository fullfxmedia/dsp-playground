{
 "cells": [
  {
   "cell_type": "code",
   "execution_count": null,
   "id": "d56c1755",
   "metadata": {},
   "outputs": [],
   "source": [
    "import numpy as np\n",
    "import warnings\n",
    "from IPython.display import Audio, display\n",
    "from scipy.io import wavfile\n",
    "import matplotlib.pyplot as plt\n",
    "import librosa, librosa.display\n",
    "import numpy as np\n",
    "from scipy.signal import sawtooth\n",
    "\n",
    "og_len = 4000 # 4 seconds\n",
    "channels = 2  # Stereo audio\n",
    "sr = 44100 # stream rate\n",
    "audio_path = \"../../resources/vocals/withers1.wav\"\n",
    "\n",
    "warnings.simplefilter(\"ignore\", wavfile.WavFileWarning)\n",
    "sr_loaded, y = wavfile.read(audio_path)  # y has shape (samples, channels) if stereo\n",
    "waveform = y.T.astype(np.float32) / np.max(np.abs(y))  # normalize\n",
    "\n",
    "display(Audio(waveform, rate=sr))\n"
   ]
  },
  {
   "cell_type": "code",
   "execution_count": null,
   "id": "29e3648b",
   "metadata": {},
   "outputs": [],
   "source": [
    "if y.ndim > 1:\n",
    "    y = np.mean(y, axis=1)\n",
    "\n",
    "# Normalize to float\n",
    "y = y.astype(np.float32)\n",
    "y /= np.max(np.abs(y))\n",
    "\n",
    "f0, voiced_flag, voiced_probs = librosa.pyin(\n",
    "    y,\n",
    "    fmin=librosa.note_to_hz('C2'),\n",
    "    fmax=librosa.note_to_hz('C6'),\n",
    "    frame_length=2048,\n",
    "    sr=sr\n",
    ")\n",
    "\n",
    "rms = librosa.feature.rms(y=y, frame_length=2048)[0]\n",
    "times = librosa.times_like(f0, sr=sr)\n",
    "\n",
    "plt.figure(figsize=(12, 4))\n",
    "plt.plot(times, f0, label='Pitch (Hz)')\n",
    "plt.plot(times, rms * 1000, label='Amplitude x1000')\n",
    "plt.legend()\n",
    "plt.title(\"Detected Pitch and Amplitude\")\n",
    "plt.show()"
   ]
  },
  {
   "cell_type": "markdown",
   "id": "2be651d4",
   "metadata": {},
   "source": [
    "# Oscillator resynthesis"
   ]
  },
  {
   "cell_type": "code",
   "execution_count": null,
   "id": "69c61ecd",
   "metadata": {},
   "outputs": [],
   "source": [
    "\n",
    "\n",
    "# Use same sampling rate (sr) and hop length from pyin\n",
    "hop_length = 512  # librosa default if you didn’t specify\n",
    "duration = len(y) / sr\n",
    "t = np.linspace(0, duration, len(y))\n",
    "\n",
    "# Interpolate f0 and RMS to full sample rate\n",
    "times = librosa.times_like(f0, sr=sr, hop_length=hop_length)\n",
    "valid_idx = ~np.isnan(f0)\n",
    "interp_f0 = np.interp(t, times[valid_idx], f0[valid_idx])\n",
    "interp_rms = np.interp(t, times, rms)\n",
    "\n",
    "phase = 2 * np.pi * np.cumsum(interp_f0) / sr\n",
    "carrier = sawtooth(phase)\n",
    "\n",
    "# Apply amplitude envelope (RMS)\n",
    "resynth = carrier * interp_rms * 2.5  # scale factor for audibility\n",
    "\n",
    "display(Audio(resynth, rate=sr))\n"
   ]
  },
  {
   "cell_type": "markdown",
   "id": "a404b927",
   "metadata": {},
   "source": [
    "# Add Additive Synthesis Harmonics"
   ]
  },
  {
   "cell_type": "code",
   "execution_count": null,
   "id": "d8fc1e47",
   "metadata": {},
   "outputs": [],
   "source": [
    "harmonics = np.zeros_like(resynth)\n",
    "num_harmonics = 5\n",
    "for k in range(1, num_harmonics + 1):\n",
    "    harmonics += (1.0 / k) * np.sin(k * phase)\n",
    "\n",
    "resynth_harm = harmonics * interp_rms * 0.6\n",
    "display(Audio(resynth_harm, rate=sr))"
   ]
  },
  {
   "cell_type": "code",
   "execution_count": null,
   "id": "ca2d0deb",
   "metadata": {},
   "outputs": [],
   "source": [
    "from scipy.signal import iirpeak, lfilter\n",
    "\n",
    "def apply_formant_filter(signal, sr, formants):\n",
    "    \"\"\"Apply a simple parallel formant filter bank to a mono signal.\"\"\"\n",
    "    out = np.zeros_like(signal)\n",
    "    for f, bw in formants:\n",
    "        b, a = iirpeak(f / (sr / 2), f / bw)  # center frequency, Q = f/bw\n",
    "        filtered = lfilter(b, a, signal)\n",
    "        out += filtered\n",
    "    # Normalize\n",
    "    out /= len(formants)\n",
    "    return out\n",
    "\n",
    "# Vowel formants (ah)\n",
    "formants_ah = [(730, 80), (1090, 90), (2440, 120)]\n",
    "\n",
    "resynth_vowel = apply_formant_filter(resynth_harm, sr, formants_ah)\n",
    "display(Audio(resynth_vowel, rate=sr))\n"
   ]
  }
 ],
 "metadata": {
  "kernelspec": {
   "display_name": ".venv",
   "language": "python",
   "name": "python3"
  },
  "language_info": {
   "codemirror_mode": {
    "name": "ipython",
    "version": 3
   },
   "file_extension": ".py",
   "mimetype": "text/x-python",
   "name": "python",
   "nbconvert_exporter": "python",
   "pygments_lexer": "ipython3",
   "version": "3.13.7"
  }
 },
 "nbformat": 4,
 "nbformat_minor": 5
}
