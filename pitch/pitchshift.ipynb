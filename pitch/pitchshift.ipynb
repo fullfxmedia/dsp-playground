{
 "cells": [
  {
   "cell_type": "code",
   "execution_count": null,
   "id": "aebae65f",
   "metadata": {},
   "outputs": [],
   "source": [
    "import numpy as np\n",
    "from IPython.display import Audio, display\n",
    "from scipy.io import wavfile\n",
    "import matplotlib.pyplot as plt"
   ]
  },
  {
   "cell_type": "code",
   "execution_count": null,
   "id": "cbdfb2b0",
   "metadata": {},
   "outputs": [],
   "source": [
    "og_len = 5000 # 5 seconds\n",
    "channels = 2  # Stereo audio\n",
    "sr = 44100 # stream rate\n",
    "audio_path = \"../resources/synth1.wav\"\n",
    "\n",
    "sr_loaded, y = wavfile.read(audio_path)\n",
    "\n",
    "# Convert to float32 and shape to (channels, samples)\n",
    "y = y.T.astype(np.float32) / np.max(np.abs(y))  # normalize\n",
    "waveform = y\n",
    "og_len = waveform.shape[1]\n",
    "\n",
    "display(Audio(waveform, rate=sr))"
   ]
  },
  {
   "cell_type": "markdown",
   "id": "d065f08b",
   "metadata": {},
   "source": [
    "# OLA\n",
    "\n",
    "Overlap and Add\n",
    "Direct pitch shift"
   ]
  },
  {
   "cell_type": "code",
   "execution_count": null,
   "id": "a9c0be68",
   "metadata": {},
   "outputs": [],
   "source": [
    "win_len = 5000 # / 44100 = 113ms\n",
    "win_f = np.hanning(win_len)\n",
    "\n",
    "anls_hop_len = 2000 # / 44100 = 45ms\n",
    "scaling = 2 ** (7 / 12)  # 5 semitones\n",
    "synth_hop_len = int(anls_hop_len * scaling)\n",
    "\n",
    "new_waveform_len = int(np.ceil(og_len / anls_hop_len) * synth_hop_len) + win_len\n",
    "new_waveform = np.zeros((channels, new_waveform_len)) # two channels, stereo output\n",
    "new_scales = np.zeros(new_waveform_len)\n",
    "\n",
    "# Loop through the windows\n",
    "for i in range(0, og_len, anls_hop_len):\n",
    "    clipped_len = min(win_len, og_len - i)\n",
    "\n",
    "    idx = int(i * scaling)\n",
    "\n",
    "    # add window to new waveform\n",
    "    new_waveform[:, idx:idx + clipped_len] += waveform[:, i:i + clipped_len] * win_f[None, :clipped_len]\n",
    "\n",
    "    # add up windowing weights for normalization\n",
    "    new_scales[idx:idx + clipped_len] += win_f[:clipped_len]\n",
    "\n",
    "new_waveform = new_waveform / np.where(new_scales == 0, 1, new_scales)\n",
    "display(Audio(new_waveform, rate=sr * scaling))"
   ]
  },
  {
   "cell_type": "markdown",
   "id": "ba298e53",
   "metadata": {},
   "source": [
    "# SOLA\n",
    "\n",
    "Synchronous Overlap and Add"
   ]
  },
  {
   "cell_type": "code",
   "execution_count": null,
   "id": "f083c715",
   "metadata": {},
   "outputs": [],
   "source": []
  },
  {
   "cell_type": "markdown",
   "id": "9d1a770d",
   "metadata": {},
   "source": [
    "# WSOLA\n",
    "\n",
    "Waveform Similarity Overlap and Add"
   ]
  },
  {
   "cell_type": "code",
   "execution_count": null,
   "id": "24bd7be1",
   "metadata": {},
   "outputs": [],
   "source": []
  },
  {
   "cell_type": "markdown",
   "id": "e37185ad",
   "metadata": {},
   "source": [
    "# TD-PSOLA\n",
    "\n",
    "Time-Domain Pitch Synchronous Overlap and Add"
   ]
  },
  {
   "cell_type": "code",
   "execution_count": null,
   "id": "e19f9e2f",
   "metadata": {},
   "outputs": [],
   "source": []
  }
 ],
 "metadata": {
  "kernelspec": {
   "display_name": ".venv",
   "language": "python",
   "name": "python3"
  },
  "language_info": {
   "codemirror_mode": {
    "name": "ipython",
    "version": 3
   },
   "file_extension": ".py",
   "mimetype": "text/x-python",
   "name": "python",
   "nbconvert_exporter": "python",
   "pygments_lexer": "ipython3",
   "version": "3.13.1"
  }
 },
 "nbformat": 4,
 "nbformat_minor": 5
}
