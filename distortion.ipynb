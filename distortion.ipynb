{
 "cells": [
  {
   "cell_type": "code",
   "execution_count": null,
   "id": "9ded3a28",
   "metadata": {},
   "outputs": [],
   "source": [
    "import numpy as np\n",
    "from IPython.display import Audio, display\n",
    "from scipy.io import wavfile"
   ]
  },
  {
   "cell_type": "markdown",
   "id": "ef9b4f45",
   "metadata": {},
   "source": [
    "# Original Source"
   ]
  },
  {
   "cell_type": "code",
   "execution_count": null,
   "id": "d7a905f0",
   "metadata": {},
   "outputs": [],
   "source": [
    "og_len = 5000 # 5 seconds\n",
    "channels = 2  # Stereo audio\n",
    "sr = 44100 # stream rate\n",
    "audio_path = \"resources/audio1_pitchshift_input.wav\"\n",
    "\n",
    "sr_loaded, y = wavfile.read(audio_path)  # y has shape (samples, channels) if stereo\n",
    "\n",
    "# Convert to float32 and shape to (channels, samples)\n",
    "waveform = y.T.astype(np.float32) / np.max(np.abs(y))  # normalize\n",
    "num_samples = waveform.shape[1]\n",
    "print(f\"Original length: {num_samples} samples, Sample rate: {sr_loaded} Hz\")\n",
    "display(Audio(waveform, rate=sr))"
   ]
  },
  {
   "cell_type": "code",
   "execution_count": null,
   "id": "f047dcd6",
   "metadata": {},
   "outputs": [],
   "source": [
    "distort_amount = 2.0  # Distortion amount\n",
    "output_waveform = np.zeros((channels, num_samples))\n",
    "\n",
    "for ch in range(waveform.shape[0]):\n",
    "    for i in range(num_samples):\n",
    "        output_waveform[ch][i] = np.tanh(distort_amount * waveform[ch][i])\n",
    "\n",
    "output_wav = output_waveform.T\n",
    "wav_int16 = np.int16(output_wav / np.max(np.abs(output_wav)) * 32767)\n",
    "wavfile.write(\"out/audio1_distorted.wav\", sr, wav_int16)\n",
    "\n",
    "display(Audio(output_waveform, rate=sr))\n"
   ]
  }
 ],
 "metadata": {
  "kernelspec": {
   "display_name": ".venv",
   "language": "python",
   "name": "python3"
  },
  "language_info": {
   "codemirror_mode": {
    "name": "ipython",
    "version": 3
   },
   "file_extension": ".py",
   "mimetype": "text/x-python",
   "name": "python",
   "nbconvert_exporter": "python",
   "pygments_lexer": "ipython3",
   "version": "3.13.1"
  }
 },
 "nbformat": 4,
 "nbformat_minor": 5
}
